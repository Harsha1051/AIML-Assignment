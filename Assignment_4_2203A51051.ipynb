{
  "nbformat": 4,
  "nbformat_minor": 0,
  "metadata": {
    "colab": {
      "provenance": []
    },
    "kernelspec": {
      "name": "python3",
      "display_name": "Python 3"
    },
    "language_info": {
      "name": "python"
    }
  },
  "cells": [
    {
      "cell_type": "code",
      "execution_count": 4,
      "metadata": {
        "colab": {
          "base_uri": "https://localhost:8080/"
        },
        "id": "h4A3JE4wBc-i",
        "outputId": "45a456dd-33e6-4444-8ad2-ee182eb2090a"
      },
      "outputs": [
        {
          "output_type": "stream",
          "name": "stdout",
          "text": [
            "     Pregnancies  Glucose  BloodPressure  SkinThickness  Insulin   BMI  \\\n",
            "0              6      148             72             35        0  33.6   \n",
            "1              1       85             66             29        0  26.6   \n",
            "2              8      183             64              0        0  23.3   \n",
            "3              1       89             66             23       94  28.1   \n",
            "4              0      137             40             35      168  43.1   \n",
            "..           ...      ...            ...            ...      ...   ...   \n",
            "763           10      101             76             48      180  32.9   \n",
            "764            2      122             70             27        0  36.8   \n",
            "765            5      121             72             23      112  26.2   \n",
            "766            1      126             60              0        0  30.1   \n",
            "767            1       93             70             31        0  30.4   \n",
            "\n",
            "     DiabetesPedigreeFunction  Age  Outcome  \n",
            "0                       0.627   50        1  \n",
            "1                       0.351   31        0  \n",
            "2                       0.672   32        1  \n",
            "3                       0.167   21        0  \n",
            "4                       2.288   33        1  \n",
            "..                        ...  ...      ...  \n",
            "763                     0.171   63        0  \n",
            "764                     0.340   27        0  \n",
            "765                     0.245   30        0  \n",
            "766                     0.349   47        1  \n",
            "767                     0.315   23        0  \n",
            "\n",
            "[768 rows x 9 columns]\n",
            "       Pregnancies     Glucose  BloodPressure  SkinThickness     Insulin  \\\n",
            "count   768.000000  768.000000     768.000000     768.000000  768.000000   \n",
            "mean      3.845052  120.894531      69.105469      20.536458   79.799479   \n",
            "std       3.369578   31.972618      19.355807      15.952218  115.244002   \n",
            "min       0.000000    0.000000       0.000000       0.000000    0.000000   \n",
            "25%       1.000000   99.000000      62.000000       0.000000    0.000000   \n",
            "50%       3.000000  117.000000      72.000000      23.000000   30.500000   \n",
            "75%       6.000000  140.250000      80.000000      32.000000  127.250000   \n",
            "max      17.000000  199.000000     122.000000      99.000000  846.000000   \n",
            "\n",
            "              BMI  DiabetesPedigreeFunction         Age     Outcome  \n",
            "count  768.000000                768.000000  768.000000  768.000000  \n",
            "mean    31.992578                  0.471876   33.240885    0.348958  \n",
            "std      7.884160                  0.331329   11.760232    0.476951  \n",
            "min      0.000000                  0.078000   21.000000    0.000000  \n",
            "25%     27.300000                  0.243750   24.000000    0.000000  \n",
            "50%     32.000000                  0.372500   29.000000    0.000000  \n",
            "75%     36.600000                  0.626250   41.000000    1.000000  \n",
            "max     67.100000                  2.420000   81.000000    1.000000  \n"
          ]
        }
      ],
      "source": [
        "import pandas as pd\n",
        "t=pd.read_csv(\"/content/drive/MyDrive/diabetes[1].csv\")\n",
        "print(t)\n",
        "t1=t.describe()\n",
        "print(t1)"
      ]
    },
    {
      "cell_type": "code",
      "source": [
        "dt=t.dtypes\n",
        "shape=t.shape\n",
        "print(\"Data types of each column:\\n\",dt)\n",
        "print(\"Shape:\",shape)"
      ],
      "metadata": {
        "colab": {
          "base_uri": "https://localhost:8080/"
        },
        "id": "3bapiV6LDWdq",
        "outputId": "f7082091-ef78-4cd0-c5ed-7fd213467bd9"
      },
      "execution_count": 10,
      "outputs": [
        {
          "output_type": "stream",
          "name": "stdout",
          "text": [
            "Data types of each column:\n",
            " Pregnancies                   int64\n",
            "Glucose                       int64\n",
            "BloodPressure                 int64\n",
            "SkinThickness                 int64\n",
            "Insulin                       int64\n",
            "BMI                         float64\n",
            "DiabetesPedigreeFunction    float64\n",
            "Age                           int64\n",
            "Outcome                       int64\n",
            "dtype: object\n",
            "Shape: (768, 9)\n"
          ]
        }
      ]
    },
    {
      "cell_type": "code",
      "source": [
        "nullvalues=t.isnull()\n",
        "print(nullvalues)\n",
        "t_mean=t.fillna(0)\n",
        "print(t_mean)"
      ],
      "metadata": {
        "colab": {
          "base_uri": "https://localhost:8080/"
        },
        "id": "s3wovQypE0fr",
        "outputId": "0dfb2d2e-274f-4922-aca9-c7cd15ee5f69"
      },
      "execution_count": 17,
      "outputs": [
        {
          "output_type": "stream",
          "name": "stdout",
          "text": [
            "     Pregnancies  Glucose  BloodPressure  SkinThickness  Insulin    BMI  \\\n",
            "0          False    False          False          False    False  False   \n",
            "1          False    False          False          False    False  False   \n",
            "2          False    False          False          False    False  False   \n",
            "3          False    False          False          False    False  False   \n",
            "4          False    False          False          False    False  False   \n",
            "..           ...      ...            ...            ...      ...    ...   \n",
            "763        False    False          False          False    False  False   \n",
            "764        False    False          False          False    False  False   \n",
            "765        False    False          False          False    False  False   \n",
            "766        False    False          False          False    False  False   \n",
            "767        False    False          False          False    False  False   \n",
            "\n",
            "     DiabetesPedigreeFunction    Age  Outcome  \n",
            "0                       False  False    False  \n",
            "1                       False  False    False  \n",
            "2                       False  False    False  \n",
            "3                       False  False    False  \n",
            "4                       False  False    False  \n",
            "..                        ...    ...      ...  \n",
            "763                     False  False    False  \n",
            "764                     False  False    False  \n",
            "765                     False  False    False  \n",
            "766                     False  False    False  \n",
            "767                     False  False    False  \n",
            "\n",
            "[768 rows x 9 columns]\n",
            "     Pregnancies  Glucose  BloodPressure  SkinThickness  Insulin   BMI  \\\n",
            "0              6      148             72             35        0  33.6   \n",
            "1              1       85             66             29        0  26.6   \n",
            "2              8      183             64              0        0  23.3   \n",
            "3              1       89             66             23       94  28.1   \n",
            "4              0      137             40             35      168  43.1   \n",
            "..           ...      ...            ...            ...      ...   ...   \n",
            "763           10      101             76             48      180  32.9   \n",
            "764            2      122             70             27        0  36.8   \n",
            "765            5      121             72             23      112  26.2   \n",
            "766            1      126             60              0        0  30.1   \n",
            "767            1       93             70             31        0  30.4   \n",
            "\n",
            "     DiabetesPedigreeFunction  Age  Outcome  \n",
            "0                       0.627   50        1  \n",
            "1                       0.351   31        0  \n",
            "2                       0.672   32        1  \n",
            "3                       0.167   21        0  \n",
            "4                       2.288   33        1  \n",
            "..                        ...  ...      ...  \n",
            "763                     0.171   63        0  \n",
            "764                     0.340   27        0  \n",
            "765                     0.245   30        0  \n",
            "766                     0.349   47        1  \n",
            "767                     0.315   23        0  \n",
            "\n",
            "[768 rows x 9 columns]\n"
          ]
        }
      ]
    },
    {
      "cell_type": "code",
      "source": [
        "X = t.drop(columns=[\"Outcome\"])\n",
        "y = t[\"Outcome\"]\n",
        "\n",
        "print(\"Features (X):\\n\", X.head())\n",
        "print(\"\\nTarget (y):\\n\", y.head())"
      ],
      "metadata": {
        "colab": {
          "base_uri": "https://localhost:8080/"
        },
        "id": "TGGcGJOqLRkd",
        "outputId": "841365e1-590b-49ba-9160-ca3e4d7cb63f"
      },
      "execution_count": 28,
      "outputs": [
        {
          "output_type": "stream",
          "name": "stdout",
          "text": [
            "Features (X):\n",
            "    Pregnancies  Glucose  BloodPressure  SkinThickness  Insulin   BMI  \\\n",
            "0            6      148             72             35        0  33.6   \n",
            "1            1       85             66             29        0  26.6   \n",
            "2            8      183             64              0        0  23.3   \n",
            "3            1       89             66             23       94  28.1   \n",
            "4            0      137             40             35      168  43.1   \n",
            "\n",
            "   DiabetesPedigreeFunction  Age  \n",
            "0                     0.627   50  \n",
            "1                     0.351   31  \n",
            "2                     0.672   32  \n",
            "3                     0.167   21  \n",
            "4                     2.288   33  \n",
            "\n",
            "Target (y):\n",
            " 0    1\n",
            "1    0\n",
            "2    1\n",
            "3    0\n",
            "4    1\n",
            "Name: Outcome, dtype: int64\n"
          ]
        }
      ]
    },
    {
      "cell_type": "code",
      "source": [
        "from sklearn.model_selection import train_test_split\n",
        "\n",
        "X_train, X_test, y_train, y_test = train_test_split(X, y, test_size=0.2, random_state=0)\n",
        "\n",
        "print(\"Train set shape:\", X_train.shape)\n",
        "print(\"Test set shape:\", X_test.shape)"
      ],
      "metadata": {
        "colab": {
          "base_uri": "https://localhost:8080/"
        },
        "id": "Iu7phtuXPDGY",
        "outputId": "2c794d7b-44d8-46dc-c632-17fbabb40674"
      },
      "execution_count": 24,
      "outputs": [
        {
          "output_type": "stream",
          "name": "stdout",
          "text": [
            "Train set shape: (614, 8)\n",
            "Test set shape: (154, 8)\n"
          ]
        }
      ]
    },
    {
      "cell_type": "code",
      "source": [
        "from sklearn.preprocessing import MinMaxScaler\n",
        "scaler = MinMaxScaler()\n",
        "t_scaled = pd.DataFrame(scaler.fit_transform(t), columns=t.columns)\n",
        "print(t_scaled)"
      ],
      "metadata": {
        "colab": {
          "base_uri": "https://localhost:8080/"
        },
        "id": "hvICRGfAPRQ7",
        "outputId": "58a2e2c0-c8d1-47a2-b38d-2fdb78b1995f"
      },
      "execution_count": 27,
      "outputs": [
        {
          "output_type": "stream",
          "name": "stdout",
          "text": [
            "     Pregnancies   Glucose  BloodPressure  SkinThickness   Insulin       BMI  \\\n",
            "0       0.352941  0.743719       0.590164       0.353535  0.000000  0.500745   \n",
            "1       0.058824  0.427136       0.540984       0.292929  0.000000  0.396423   \n",
            "2       0.470588  0.919598       0.524590       0.000000  0.000000  0.347243   \n",
            "3       0.058824  0.447236       0.540984       0.232323  0.111111  0.418778   \n",
            "4       0.000000  0.688442       0.327869       0.353535  0.198582  0.642325   \n",
            "..           ...       ...            ...            ...       ...       ...   \n",
            "763     0.588235  0.507538       0.622951       0.484848  0.212766  0.490313   \n",
            "764     0.117647  0.613065       0.573770       0.272727  0.000000  0.548435   \n",
            "765     0.294118  0.608040       0.590164       0.232323  0.132388  0.390462   \n",
            "766     0.058824  0.633166       0.491803       0.000000  0.000000  0.448584   \n",
            "767     0.058824  0.467337       0.573770       0.313131  0.000000  0.453055   \n",
            "\n",
            "     DiabetesPedigreeFunction       Age  Outcome  \n",
            "0                    0.234415  0.483333      1.0  \n",
            "1                    0.116567  0.166667      0.0  \n",
            "2                    0.253629  0.183333      1.0  \n",
            "3                    0.038002  0.000000      0.0  \n",
            "4                    0.943638  0.200000      1.0  \n",
            "..                        ...       ...      ...  \n",
            "763                  0.039710  0.700000      0.0  \n",
            "764                  0.111870  0.100000      0.0  \n",
            "765                  0.071307  0.150000      0.0  \n",
            "766                  0.115713  0.433333      1.0  \n",
            "767                  0.101196  0.033333      0.0  \n",
            "\n",
            "[768 rows x 9 columns]\n"
          ]
        }
      ]
    }
  ]
}